{
 "cells": [
  {
   "cell_type": "code",
   "execution_count": null,
   "metadata": {},
   "outputs": [
    {
     "ename": "",
     "evalue": "",
     "output_type": "error",
     "traceback": [
      "\u001b[1;31mThe kernel failed to start as a dll could not be loaded.\n",
      "\u001b[1;31mClick <a href='https://aka.ms/kernelFailuresDllLoad'>here</a> for more info."
     ]
    }
   ],
   "source": [
    "# Import các thư viện cần thiết\n",
    "import pandas as pd\n",
    "import numpy as np\n",
    "import matplotlib.pyplot as plt\n",
    "import seaborn as sns\n",
    "from sklearn.model_selection import train_test_split\n",
    "from sklearn.linear_model import LinearRegression\n",
    "from sklearn.metrics import mean_squared_error\n",
    "\n",
    "# Đọc dữ liệu từ các file CSV\n",
    "fpt_data = pd.read_csv('FPT.csv')\n",
    "pnj_data = pd.read_csv('PNJ.csv')\n",
    "msn_data = pd.read_csv('MSN.csv')\n",
    "vic_data = pd.read_csv('VIC.csv')\n",
    "\n",
    "# Chuyển đổi cột 'Date/Time' thành định dạng datetime\n",
    "fpt_data['Date/Time'] = pd.to_datetime(fpt_data['Date/Time'])\n",
    "pnj_data['Date/Time'] = pd.to_datetime(pnj_data['Date/Time'])\n",
    "msn_data['Date/Time'] = pd.to_datetime(msn_data['Date/Time'])\n",
    "vic_data['Date/Time'] = pd.to_datetime(vic_data['Date/Time'])\n",
    "\n",
    "# Đặt 'Date/Time' làm index\n",
    "fpt_data.set_index('Date/Time', inplace=True)\n",
    "pnj_data.set_index('Date/Time', inplace=True)\n",
    "msn_data.set_index('Date/Time', inplace=True)\n",
    "vic_data.set_index('Date/Time', inplace=True)\n",
    "\n",
    "# Vẽ biểu đồ giá cổ phiếu theo thời gian\n",
    "plt.figure(figsize=(10, 5))\n",
    "plt.plot(fpt_data['Close'], label='FPT')\n",
    "plt.plot(pnj_data['Close'], label='PNJ')\n",
    "plt.plot(msn_data['Close'], label='MSN')\n",
    "plt.plot(vic_data['Close'], label='VIC')\n",
    "plt.legend()\n",
    "plt.title('Giá đóng cửa của các cổ phiếu theo thời gian')\n",
    "plt.xlabel('Thời gian')\n",
    "plt.ylabel('Giá đóng cửa')\n",
    "plt.show()\n",
    "\n",
    "# Tạo biến mục tiêu (y) là biến động giá cổ phiếu\n",
    "fpt_data['Price Change'] = fpt_data['Close'].shift(-1) - fpt_data['Close']\n",
    "\n",
    "# Xóa các giá trị NaN\n",
    "fpt_data.dropna(inplace=True)\n",
    "\n",
    "# Chọn các biến đầu vào (X) và biến mục tiêu (y)\n",
    "X = fpt_data[['Open', 'High', 'Low', 'Close', 'Volume']]\n",
    "y = fpt_data['Price Change']\n",
    "\n",
    "# Chia dữ liệu thành tập huấn luyện và tập kiểm tra\n",
    "X_train, X_test, y_train, y_test = train_test_split(X, y, test_size=0.2, random_state=42)\n",
    "\n",
    "# Xây dựng mô hình Linear Regression\n",
    "model = LinearRegression()\n",
    "model.fit(X_train, y_train)\n",
    "\n",
    "# Dự đoán và đánh giá mô hình\n",
    "y_pred = model.predict(X_test)\n",
    "mse = mean_squared_error(y_test, y_pred)\n",
    "print('Mean Squared Error:', mse)\n"
   ]
  }
 ],
 "metadata": {
  "kernelspec": {
   "display_name": "Python 3",
   "language": "python",
   "name": "python3"
  },
  "language_info": {
   "name": "python",
   "version": "3.11.7"
  }
 },
 "nbformat": 4,
 "nbformat_minor": 2
}
